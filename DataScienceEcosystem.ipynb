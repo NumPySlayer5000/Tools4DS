{
 "cells": [
  {
   "cell_type": "markdown",
   "id": "c0175166-46d6-4fa1-88d1-f330870d4faf",
   "metadata": {},
   "source": [
    "# Data Science Tools and Ecosystem"
   ]
  },
  {
   "cell_type": "markdown",
   "id": "722fbd2f-536c-4e9f-88ee-359cfccf9127",
   "metadata": {},
   "source": [
    "## Author\n",
    "\n",
    "José Luis Del Alto"
   ]
  },
  {
   "cell_type": "markdown",
   "id": "736541cd-64f9-43ff-a1ad-8c1f5c9f61b7",
   "metadata": {},
   "source": [
    "**Objectives:**\n",
    "\n",
    "- Learn basic things in Jupyter Notebooks\n",
    "- Understand key Data Science tools and development environments\n",
    "- Practice examples of basic arithmetic expressions in Python"
   ]
  },
  {
   "cell_type": "markdown",
   "id": "20599cdc-b0b1-411f-84a9-3200ddf97419",
   "metadata": {},
   "source": [
    "Some of the popular languages that Data Scientists use are:\n",
    "\n",
    "1. Python\n",
    "2. R\n",
    "3. SQL\n",
    "4. Julia\n",
    "5. Scala"
   ]
  },
  {
   "cell_type": "markdown",
   "id": "91078f78-6e66-4807-9d6c-c21601cd1b52",
   "metadata": {},
   "source": [
    "Some of the commonly used libraries used by Data Scientists include:\n",
    "\n",
    "1. Pandas\n",
    "2. NumPy\n",
    "3. Matplotlib\n",
    "4. Scikit-learn\n",
    "5. TensorFlow"
   ]
  },
  {
   "cell_type": "markdown",
   "id": "296c732d-edc8-43b6-ac62-3d32c9633fe6",
   "metadata": {},
   "source": [
    "| Data Science Tools       |\n",
    "|--------------------------|\n",
    "| Jupyter Notebook         |\n",
    "| RStudio                  |\n",
    "| Tableau                  |"
   ]
  },
  {
   "cell_type": "markdown",
   "id": "76bdef7b-6db4-4e82-a0e6-a974e0a2ae8a",
   "metadata": {},
   "source": [
    "### Below are a few examples of evaluating arithmetic expressions in Python"
   ]
  },
  {
   "cell_type": "code",
   "execution_count": 1,
   "id": "850b1bc5-74b6-4017-85ef-fbba60c58172",
   "metadata": {},
   "outputs": [
    {
     "data": {
      "text/plain": [
       "17"
      ]
     },
     "execution_count": 1,
     "metadata": {},
     "output_type": "execute_result"
    }
   ],
   "source": [
    "# This a simple arithmetic expression to mutiply then add integers\n",
    "(3*4)+5"
   ]
  },
  {
   "cell_type": "code",
   "execution_count": 2,
   "id": "fe4aa0d0-ff99-4999-9924-82ee58c5d5f3",
   "metadata": {},
   "outputs": [
    {
     "data": {
      "text/plain": [
       "3.3333333333333335"
      ]
     },
     "execution_count": 2,
     "metadata": {},
     "output_type": "execute_result"
    }
   ],
   "source": [
    "# This will convert 200 minutes to hours by diving by 60\n",
    "minutes = 200\n",
    "minutes/60"
   ]
  },
  {
   "cell_type": "code",
   "execution_count": null,
   "id": "3ac6528e-6abf-4195-a387-e09534d442eb",
   "metadata": {},
   "outputs": [],
   "source": []
  }
 ],
 "metadata": {
  "kernelspec": {
   "display_name": "Python 3 (ipykernel)",
   "language": "python",
   "name": "python3"
  },
  "language_info": {
   "codemirror_mode": {
    "name": "ipython",
    "version": 3
   },
   "file_extension": ".py",
   "mimetype": "text/x-python",
   "name": "python",
   "nbconvert_exporter": "python",
   "pygments_lexer": "ipython3",
   "version": "3.11.9"
  }
 },
 "nbformat": 4,
 "nbformat_minor": 5
}
